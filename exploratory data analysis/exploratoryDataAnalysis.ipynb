{
 "cells": [
  {
   "cell_type": "code",
   "execution_count": 1,
   "metadata": {},
   "outputs": [
    {
     "data": {
      "text/html": [
       "<div>\n",
       "<style scoped>\n",
       "    .dataframe tbody tr th:only-of-type {\n",
       "        vertical-align: middle;\n",
       "    }\n",
       "\n",
       "    .dataframe tbody tr th {\n",
       "        vertical-align: top;\n",
       "    }\n",
       "\n",
       "    .dataframe thead th {\n",
       "        text-align: right;\n",
       "    }\n",
       "</style>\n",
       "<table border=\"1\" class=\"dataframe\">\n",
       "  <thead>\n",
       "    <tr style=\"text-align: right;\">\n",
       "      <th></th>\n",
       "      <th>Key</th>\n",
       "      <th>Type</th>\n",
       "      <th>Summary</th>\n",
       "      <th>Description</th>\n",
       "      <th>Status</th>\n",
       "      <th>Resolution</th>\n",
       "      <th>Resolution Date</th>\n",
       "      <th>Release Note</th>\n",
       "      <th>Priority</th>\n",
       "      <th>Created</th>\n",
       "      <th>...</th>\n",
       "      <th>Assignee</th>\n",
       "      <th>Labels</th>\n",
       "      <th>Components</th>\n",
       "      <th>Fix Versions</th>\n",
       "      <th>Parent Issue</th>\n",
       "      <th>Watchers</th>\n",
       "      <th>Issue Links</th>\n",
       "      <th>Subtasks</th>\n",
       "      <th>Comments</th>\n",
       "      <th>Module-Feature</th>\n",
       "    </tr>\n",
       "  </thead>\n",
       "  <tbody>\n",
       "    <tr>\n",
       "      <th>0</th>\n",
       "      <td>DHRD-103369</td>\n",
       "      <td>Retrofit</td>\n",
       "      <td>[DH-6.2-02c-qf11a10] DH - PRETRUN_BREAKDOW W.S...</td>\n",
       "      <td>||Version details||Environment infos||\\r\\n| * ...</td>\n",
       "      <td>To be fixed</td>\n",
       "      <td>Unresolved</td>\n",
       "      <td>NaN</td>\n",
       "      <td>NaN</td>\n",
       "      <td>Minor</td>\n",
       "      <td>2025-02-18T10:44:10.000+0100</td>\n",
       "      <td>...</td>\n",
       "      <td>Mariem Bayoudh</td>\n",
       "      <td>NaN</td>\n",
       "      <td>NaN</td>\n",
       "      <td>NaN</td>\n",
       "      <td>NaN</td>\n",
       "      <td>0</td>\n",
       "      <td>inward: is part of DHRD-103356 [Open] - DH - P...</td>\n",
       "      <td>NaN</td>\n",
       "      <td>NaN</td>\n",
       "      <td>NaN</td>\n",
       "    </tr>\n",
       "    <tr>\n",
       "      <th>1</th>\n",
       "      <td>DHRD-103368</td>\n",
       "      <td>Retrofit</td>\n",
       "      <td>[DH-6.2-02c-qf9a9] DH - PRETRUN_BREAKDOW W.S. ...</td>\n",
       "      <td>||Version details||Environment infos||\\r\\n| * ...</td>\n",
       "      <td>To be fixed</td>\n",
       "      <td>Unresolved</td>\n",
       "      <td>NaN</td>\n",
       "      <td>NaN</td>\n",
       "      <td>Minor</td>\n",
       "      <td>2025-02-18T10:44:10.000+0100</td>\n",
       "      <td>...</td>\n",
       "      <td>Mariem Bayoudh</td>\n",
       "      <td>NaN</td>\n",
       "      <td>NaN</td>\n",
       "      <td>NaN</td>\n",
       "      <td>NaN</td>\n",
       "      <td>0</td>\n",
       "      <td>inward: is part of DHRD-103356 [Open] - DH - P...</td>\n",
       "      <td>NaN</td>\n",
       "      <td>NaN</td>\n",
       "      <td>NaN</td>\n",
       "    </tr>\n",
       "    <tr>\n",
       "      <th>2</th>\n",
       "      <td>DHRD-103365</td>\n",
       "      <td>Retrofit</td>\n",
       "      <td>[DH-6.3-03-qf2b7] PROD_IN_GIC - DateTime field...</td>\n",
       "      <td>Hello,\\r\\n\\r\\nWhen the system reads a DateTime...</td>\n",
       "      <td>To be fixed</td>\n",
       "      <td>Unresolved</td>\n",
       "      <td>NaN</td>\n",
       "      <td>NaN</td>\n",
       "      <td>Minor</td>\n",
       "      <td>2025-01-24T14:24:47.000+0100</td>\n",
       "      <td>...</td>\n",
       "      <td>Rulin Xue</td>\n",
       "      <td>NaN</td>\n",
       "      <td>NaN</td>\n",
       "      <td>NaN</td>\n",
       "      <td>NaN</td>\n",
       "      <td>0</td>\n",
       "      <td>inward: is part of DHRD-101705 [Done] - PROD_I...</td>\n",
       "      <td>NaN</td>\n",
       "      <td>NaN</td>\n",
       "      <td>NaN</td>\n",
       "    </tr>\n",
       "    <tr>\n",
       "      <th>3</th>\n",
       "      <td>DHRD-103364</td>\n",
       "      <td>Retrofit</td>\n",
       "      <td>[DH-7.2.0.0] PROD_IN_GIC - DateTime field valu...</td>\n",
       "      <td>Hello,\\r\\n\\r\\nWhen the system reads a DateTime...</td>\n",
       "      <td>To be tested</td>\n",
       "      <td>Unresolved</td>\n",
       "      <td>NaN</td>\n",
       "      <td>NaN</td>\n",
       "      <td>Minor</td>\n",
       "      <td>2025-01-24T14:07:38.000+0100</td>\n",
       "      <td>...</td>\n",
       "      <td>NaN</td>\n",
       "      <td>NaN</td>\n",
       "      <td>NaN</td>\n",
       "      <td>NaN</td>\n",
       "      <td>NaN</td>\n",
       "      <td>0</td>\n",
       "      <td>inward: is part of DHRD-101705 [Done] - PROD_I...</td>\n",
       "      <td>NaN</td>\n",
       "      <td>NaN</td>\n",
       "      <td>NaN</td>\n",
       "    </tr>\n",
       "    <tr>\n",
       "      <th>4</th>\n",
       "      <td>DHRD-103363</td>\n",
       "      <td>Story</td>\n",
       "      <td>US4 - Delete/create a condition field in Field...</td>\n",
       "      <td>On Field Group, the existing condition which a...</td>\n",
       "      <td>Open</td>\n",
       "      <td>Unresolved</td>\n",
       "      <td>NaN</td>\n",
       "      <td>NaN</td>\n",
       "      <td>Major</td>\n",
       "      <td>2025-01-24T14:05:08.000+0100</td>\n",
       "      <td>...</td>\n",
       "      <td>NaN</td>\n",
       "      <td>NaN</td>\n",
       "      <td>Mod/data quality</td>\n",
       "      <td>NaN</td>\n",
       "      <td>NaN</td>\n",
       "      <td>0</td>\n",
       "      <td>NaN</td>\n",
       "      <td>NaN</td>\n",
       "      <td>NaN</td>\n",
       "      <td>{'self': 'https://nx-jira8.my-nx.com/rest/api/...</td>\n",
       "    </tr>\n",
       "    <tr>\n",
       "      <th>...</th>\n",
       "      <td>...</td>\n",
       "      <td>...</td>\n",
       "      <td>...</td>\n",
       "      <td>...</td>\n",
       "      <td>...</td>\n",
       "      <td>...</td>\n",
       "      <td>...</td>\n",
       "      <td>...</td>\n",
       "      <td>...</td>\n",
       "      <td>...</td>\n",
       "      <td>...</td>\n",
       "      <td>...</td>\n",
       "      <td>...</td>\n",
       "      <td>...</td>\n",
       "      <td>...</td>\n",
       "      <td>...</td>\n",
       "      <td>...</td>\n",
       "      <td>...</td>\n",
       "      <td>...</td>\n",
       "      <td>...</td>\n",
       "      <td>...</td>\n",
       "    </tr>\n",
       "    <tr>\n",
       "      <th>96101</th>\n",
       "      <td>DHRD-7281</td>\n",
       "      <td>Improvement</td>\n",
       "      <td>Evolutions mineures sur l'environnement des bu...</td>\n",
       "      <td>Bizness rule:\\no chercher une autre bizule en ...</td>\n",
       "      <td>Closed</td>\n",
       "      <td>Fixed</td>\n",
       "      <td>2012-02-02T03:56:00.000+0100</td>\n",
       "      <td>Some bugs have been fixed and various improvem...</td>\n",
       "      <td>NaN</td>\n",
       "      <td>2012-02-02T03:56:00.000+0100</td>\n",
       "      <td>...</td>\n",
       "      <td>nicolas.seiller@smartco.com</td>\n",
       "      <td>NaN</td>\n",
       "      <td>Cor/rule dict.</td>\n",
       "      <td>DH-3.3-00</td>\n",
       "      <td>NaN</td>\n",
       "      <td>0</td>\n",
       "      <td>outward: includes DHRD-21347 [Validated] - [DH...</td>\n",
       "      <td>NaN</td>\n",
       "      <td>NaN</td>\n",
       "      <td>{'self': 'https://nx-jira8.my-nx.com/rest/api/...</td>\n",
       "    </tr>\n",
       "    <tr>\n",
       "      <th>96102</th>\n",
       "      <td>DHRD-7280</td>\n",
       "      <td>Bug</td>\n",
       "      <td>L'icone des mails interne en attente est HS...</td>\n",
       "      <td>L'icone de boîte mail situé en bas de l'écran ...</td>\n",
       "      <td>Closed</td>\n",
       "      <td>Fixed</td>\n",
       "      <td>2012-02-02T03:53:00.000+0100</td>\n",
       "      <td>NaN</td>\n",
       "      <td>NaN</td>\n",
       "      <td>2012-02-02T03:53:00.000+0100</td>\n",
       "      <td>...</td>\n",
       "      <td>Sylvie Né</td>\n",
       "      <td>NaN</td>\n",
       "      <td>Gui/components</td>\n",
       "      <td>DH-3.3-00</td>\n",
       "      <td>NaN</td>\n",
       "      <td>0</td>\n",
       "      <td>outward: includes DHRD-21346 [Validated] - [DH...</td>\n",
       "      <td>NaN</td>\n",
       "      <td>NaN</td>\n",
       "      <td>{'self': 'https://nx-jira8.my-nx.com/rest/api/...</td>\n",
       "    </tr>\n",
       "    <tr>\n",
       "      <th>96103</th>\n",
       "      <td>DHRD-7279</td>\n",
       "      <td>Request</td>\n",
       "      <td>Ratings</td>\n",
       "      <td>Titres : \\n - Les ratings côté titre sont faux...</td>\n",
       "      <td>Closed</td>\n",
       "      <td>Fixed</td>\n",
       "      <td>2012-02-01T04:13:00.000+0100</td>\n",
       "      <td>NaN</td>\n",
       "      <td>NaN</td>\n",
       "      <td>2012-02-01T04:13:00.000+0100</td>\n",
       "      <td>...</td>\n",
       "      <td>Sylvie Né</td>\n",
       "      <td>NaN</td>\n",
       "      <td>Oth/other</td>\n",
       "      <td>NaN</td>\n",
       "      <td>NaN</td>\n",
       "      <td>0</td>\n",
       "      <td>NaN</td>\n",
       "      <td>NaN</td>\n",
       "      <td>NaN</td>\n",
       "      <td>{'self': 'https://nx-jira8.my-nx.com/rest/api/...</td>\n",
       "    </tr>\n",
       "    <tr>\n",
       "      <th>96104</th>\n",
       "      <td>DHRD-6495</td>\n",
       "      <td>Bug</td>\n",
       "      <td>Erreur lors d'affichage d 'une Ost dans un écr...</td>\n",
       "      <td>XT - 26/05/2011 - Mail de Mickael et il fourni...</td>\n",
       "      <td>Closed</td>\n",
       "      <td>Won't Do</td>\n",
       "      <td>2011-05-26T10:40:00.000+0200</td>\n",
       "      <td>NaN</td>\n",
       "      <td>NaN</td>\n",
       "      <td>2011-05-26T10:40:00.000+0200</td>\n",
       "      <td>...</td>\n",
       "      <td>Stephane Loubry</td>\n",
       "      <td>NaN</td>\n",
       "      <td>Gui/detail</td>\n",
       "      <td>NaN</td>\n",
       "      <td>NaN</td>\n",
       "      <td>0</td>\n",
       "      <td>NaN</td>\n",
       "      <td>NaN</td>\n",
       "      <td>NaN</td>\n",
       "      <td>NaN</td>\n",
       "    </tr>\n",
       "    <tr>\n",
       "      <th>96105</th>\n",
       "      <td>DHRD-6497</td>\n",
       "      <td>Bug</td>\n",
       "      <td>Probleme lors de l'affichage de l'agregation d...</td>\n",
       "      <td>XT - 26/05/2011 - Mail de Mickael et il fourni...</td>\n",
       "      <td>Closed</td>\n",
       "      <td>Closed</td>\n",
       "      <td>2011-05-26T10:40:00.000+0200</td>\n",
       "      <td>NaN</td>\n",
       "      <td>NaN</td>\n",
       "      <td>2011-05-26T10:40:00.000+0200</td>\n",
       "      <td>...</td>\n",
       "      <td>NaN</td>\n",
       "      <td>NaN</td>\n",
       "      <td>Gui/detail</td>\n",
       "      <td>NaN</td>\n",
       "      <td>NaN</td>\n",
       "      <td>0</td>\n",
       "      <td>NaN</td>\n",
       "      <td>NaN</td>\n",
       "      <td>NaN</td>\n",
       "      <td>NaN</td>\n",
       "    </tr>\n",
       "  </tbody>\n",
       "</table>\n",
       "<p>96106 rows × 23 columns</p>\n",
       "</div>"
      ],
      "text/plain": [
       "               Key         Type  \\\n",
       "0      DHRD-103369     Retrofit   \n",
       "1      DHRD-103368     Retrofit   \n",
       "2      DHRD-103365     Retrofit   \n",
       "3      DHRD-103364     Retrofit   \n",
       "4      DHRD-103363        Story   \n",
       "...            ...          ...   \n",
       "96101    DHRD-7281  Improvement   \n",
       "96102    DHRD-7280          Bug   \n",
       "96103    DHRD-7279      Request   \n",
       "96104    DHRD-6495          Bug   \n",
       "96105    DHRD-6497          Bug   \n",
       "\n",
       "                                                 Summary  \\\n",
       "0      [DH-6.2-02c-qf11a10] DH - PRETRUN_BREAKDOW W.S...   \n",
       "1      [DH-6.2-02c-qf9a9] DH - PRETRUN_BREAKDOW W.S. ...   \n",
       "2      [DH-6.3-03-qf2b7] PROD_IN_GIC - DateTime field...   \n",
       "3      [DH-7.2.0.0] PROD_IN_GIC - DateTime field valu...   \n",
       "4      US4 - Delete/create a condition field in Field...   \n",
       "...                                                  ...   \n",
       "96101  Evolutions mineures sur l'environnement des bu...   \n",
       "96102     L'icone des mails interne en attente est HS...   \n",
       "96103                                            Ratings   \n",
       "96104  Erreur lors d'affichage d 'une Ost dans un écr...   \n",
       "96105  Probleme lors de l'affichage de l'agregation d...   \n",
       "\n",
       "                                             Description        Status  \\\n",
       "0      ||Version details||Environment infos||\\r\\n| * ...   To be fixed   \n",
       "1      ||Version details||Environment infos||\\r\\n| * ...   To be fixed   \n",
       "2      Hello,\\r\\n\\r\\nWhen the system reads a DateTime...   To be fixed   \n",
       "3      Hello,\\r\\n\\r\\nWhen the system reads a DateTime...  To be tested   \n",
       "4      On Field Group, the existing condition which a...          Open   \n",
       "...                                                  ...           ...   \n",
       "96101  Bizness rule:\\no chercher une autre bizule en ...        Closed   \n",
       "96102  L'icone de boîte mail situé en bas de l'écran ...        Closed   \n",
       "96103  Titres : \\n - Les ratings côté titre sont faux...        Closed   \n",
       "96104  XT - 26/05/2011 - Mail de Mickael et il fourni...        Closed   \n",
       "96105  XT - 26/05/2011 - Mail de Mickael et il fourni...        Closed   \n",
       "\n",
       "       Resolution               Resolution Date  \\\n",
       "0      Unresolved                           NaN   \n",
       "1      Unresolved                           NaN   \n",
       "2      Unresolved                           NaN   \n",
       "3      Unresolved                           NaN   \n",
       "4      Unresolved                           NaN   \n",
       "...           ...                           ...   \n",
       "96101       Fixed  2012-02-02T03:56:00.000+0100   \n",
       "96102       Fixed  2012-02-02T03:53:00.000+0100   \n",
       "96103       Fixed  2012-02-01T04:13:00.000+0100   \n",
       "96104    Won't Do  2011-05-26T10:40:00.000+0200   \n",
       "96105      Closed  2011-05-26T10:40:00.000+0200   \n",
       "\n",
       "                                            Release Note Priority  \\\n",
       "0                                                    NaN    Minor   \n",
       "1                                                    NaN    Minor   \n",
       "2                                                    NaN    Minor   \n",
       "3                                                    NaN    Minor   \n",
       "4                                                    NaN    Major   \n",
       "...                                                  ...      ...   \n",
       "96101  Some bugs have been fixed and various improvem...      NaN   \n",
       "96102                                                NaN      NaN   \n",
       "96103                                                NaN      NaN   \n",
       "96104                                                NaN      NaN   \n",
       "96105                                                NaN      NaN   \n",
       "\n",
       "                            Created  ...                     Assignee Labels  \\\n",
       "0      2025-02-18T10:44:10.000+0100  ...               Mariem Bayoudh    NaN   \n",
       "1      2025-02-18T10:44:10.000+0100  ...               Mariem Bayoudh    NaN   \n",
       "2      2025-01-24T14:24:47.000+0100  ...                    Rulin Xue    NaN   \n",
       "3      2025-01-24T14:07:38.000+0100  ...                          NaN    NaN   \n",
       "4      2025-01-24T14:05:08.000+0100  ...                          NaN    NaN   \n",
       "...                             ...  ...                          ...    ...   \n",
       "96101  2012-02-02T03:56:00.000+0100  ...  nicolas.seiller@smartco.com    NaN   \n",
       "96102  2012-02-02T03:53:00.000+0100  ...                    Sylvie Né    NaN   \n",
       "96103  2012-02-01T04:13:00.000+0100  ...                    Sylvie Né    NaN   \n",
       "96104  2011-05-26T10:40:00.000+0200  ...              Stephane Loubry    NaN   \n",
       "96105  2011-05-26T10:40:00.000+0200  ...                          NaN    NaN   \n",
       "\n",
       "             Components Fix Versions Parent Issue Watchers  \\\n",
       "0                   NaN          NaN          NaN        0   \n",
       "1                   NaN          NaN          NaN        0   \n",
       "2                   NaN          NaN          NaN        0   \n",
       "3                   NaN          NaN          NaN        0   \n",
       "4      Mod/data quality          NaN          NaN        0   \n",
       "...                 ...          ...          ...      ...   \n",
       "96101    Cor/rule dict.    DH-3.3-00          NaN        0   \n",
       "96102    Gui/components    DH-3.3-00          NaN        0   \n",
       "96103         Oth/other          NaN          NaN        0   \n",
       "96104        Gui/detail          NaN          NaN        0   \n",
       "96105        Gui/detail          NaN          NaN        0   \n",
       "\n",
       "                                             Issue Links Subtasks  Comments  \\\n",
       "0      inward: is part of DHRD-103356 [Open] - DH - P...      NaN       NaN   \n",
       "1      inward: is part of DHRD-103356 [Open] - DH - P...      NaN       NaN   \n",
       "2      inward: is part of DHRD-101705 [Done] - PROD_I...      NaN       NaN   \n",
       "3      inward: is part of DHRD-101705 [Done] - PROD_I...      NaN       NaN   \n",
       "4                                                    NaN      NaN       NaN   \n",
       "...                                                  ...      ...       ...   \n",
       "96101  outward: includes DHRD-21347 [Validated] - [DH...      NaN       NaN   \n",
       "96102  outward: includes DHRD-21346 [Validated] - [DH...      NaN       NaN   \n",
       "96103                                                NaN      NaN       NaN   \n",
       "96104                                                NaN      NaN       NaN   \n",
       "96105                                                NaN      NaN       NaN   \n",
       "\n",
       "                                          Module-Feature  \n",
       "0                                                    NaN  \n",
       "1                                                    NaN  \n",
       "2                                                    NaN  \n",
       "3                                                    NaN  \n",
       "4      {'self': 'https://nx-jira8.my-nx.com/rest/api/...  \n",
       "...                                                  ...  \n",
       "96101  {'self': 'https://nx-jira8.my-nx.com/rest/api/...  \n",
       "96102  {'self': 'https://nx-jira8.my-nx.com/rest/api/...  \n",
       "96103  {'self': 'https://nx-jira8.my-nx.com/rest/api/...  \n",
       "96104                                                NaN  \n",
       "96105                                                NaN  \n",
       "\n",
       "[96106 rows x 23 columns]"
      ]
     },
     "execution_count": 1,
     "metadata": {},
     "output_type": "execute_result"
    }
   ],
   "source": [
    "import pandas as pd\n",
    "\n",
    "# Charger le fichier CSV\n",
    "df = pd.read_csv('C:/Users/my.kassem/Desktop/PFE/jira_issues_DHRD_20250225_125123.csv')\n",
    "\n",
    "# Afficher les premières lignes du fichier\n",
    "df"
   ]
  },
  {
   "cell_type": "code",
   "execution_count": 2,
   "metadata": {},
   "outputs": [
    {
     "data": {
      "text/plain": [
       "Index(['Key', 'Type', 'Summary', 'Description', 'Status', 'Resolution',\n",
       "       'Resolution Date', 'Release Note', 'Priority', 'Created', 'Updated',\n",
       "       'Due Date', 'Reporter', 'Assignee', 'Labels', 'Components',\n",
       "       'Fix Versions', 'Parent Issue', 'Watchers', 'Issue Links', 'Subtasks',\n",
       "       'Comments', 'Module-Feature'],\n",
       "      dtype='object')"
      ]
     },
     "execution_count": 2,
     "metadata": {},
     "output_type": "execute_result"
    }
   ],
   "source": [
    "df.columns"
   ]
  },
  {
   "cell_type": "code",
   "execution_count": 3,
   "metadata": {},
   "outputs": [
    {
     "name": "stdout",
     "output_type": "stream",
     "text": [
      "                                      Module-Feature  \\\n",
      "0                                                NaN   \n",
      "1                                                NaN   \n",
      "2                                                NaN   \n",
      "3                                                NaN   \n",
      "4  {'self': 'https://nx-jira8.my-nx.com/rest/api/...   \n",
      "\n",
      "                       Module             Feature  \n",
      "0                        None                None  \n",
      "1                        None                None  \n",
      "2                        None                None  \n",
      "3                        None                None  \n",
      "4  03 - Data Management Admin  Data Quality Level  \n"
     ]
    }
   ],
   "source": [
    "import pandas as pd\n",
    "import json\n",
    "\n",
    "# Fonction pour extraire Module et Feature\n",
    "def extract_module_feature(json_str):\n",
    "    if not isinstance(json_str, str):  # Vérifier si ce n'est pas une chaîne\n",
    "        return pd.Series([None, None])  # Retourner NaN pour les valeurs non valides\n",
    "\n",
    "    try:\n",
    "        data = json.loads(json_str.replace(\"'\", \"\\\"\"))  # Convertir en JSON valide\n",
    "        module = data.get(\"value\", None)  # Extraire le module\n",
    "        feature = data.get(\"child\", {}).get(\"value\", None)  # Extraire le feature\n",
    "        return pd.Series([module, feature])\n",
    "    except json.JSONDecodeError:  \n",
    "        return pd.Series([None, None])  # Retourner NaN en cas d'erreur JSON\n",
    "\n",
    "# Appliquer la fonction à toute la colonne\n",
    "df[[\"Module\", \"Feature\"]] = df[\"Module-Feature\"].apply(extract_module_feature)\n",
    "\n",
    "# Vérification\n",
    "print(df[[\"Module-Feature\", \"Module\", \"Feature\"]].head())\n"
   ]
  },
  {
   "cell_type": "code",
   "execution_count": 4,
   "metadata": {},
   "outputs": [
    {
     "name": "stdout",
     "output_type": "stream",
     "text": [
      "                       Module             Feature\n",
      "0                        None                None\n",
      "1                        None                None\n",
      "2                        None                None\n",
      "3                        None                None\n",
      "4  03 - Data Management Admin  Data Quality Level\n"
     ]
    }
   ],
   "source": [
    "# Vérifier le résultat\n",
    "print(df[['Module', 'Feature']].head())"
   ]
  },
  {
   "cell_type": "markdown",
   "metadata": {},
   "source": [
    "1️⃣ Analyse générale des données"
   ]
  },
  {
   "cell_type": "code",
   "execution_count": 5,
   "metadata": {},
   "outputs": [
    {
     "name": "stdout",
     "output_type": "stream",
     "text": [
      "<class 'pandas.core.frame.DataFrame'>\n",
      "RangeIndex: 96106 entries, 0 to 96105\n",
      "Data columns (total 25 columns):\n",
      " #   Column           Non-Null Count  Dtype \n",
      "---  ------           --------------  ----- \n",
      " 0   Key              96106 non-null  object\n",
      " 1   Type             96106 non-null  object\n",
      " 2   Summary          96089 non-null  object\n",
      " 3   Description      63531 non-null  object\n",
      " 4   Status           96106 non-null  object\n",
      " 5   Resolution       96106 non-null  object\n",
      " 6   Resolution Date  38680 non-null  object\n",
      " 7   Release Note     11558 non-null  object\n",
      " 8   Priority         51099 non-null  object\n",
      " 9   Created          96106 non-null  object\n",
      " 10  Updated          96106 non-null  object\n",
      " 11  Due Date         7471 non-null   object\n",
      " 12  Reporter         96106 non-null  object\n",
      " 13  Assignee         69827 non-null  object\n",
      " 14  Labels           18897 non-null  object\n",
      " 15  Components       28751 non-null  object\n",
      " 16  Fix Versions     14980 non-null  object\n",
      " 17  Parent Issue     8401 non-null   object\n",
      " 18  Watchers         96106 non-null  int64 \n",
      " 19  Issue Links      53166 non-null  object\n",
      " 20  Subtasks         4063 non-null   object\n",
      " 21  Comments         52263 non-null  object\n",
      " 22  Module-Feature   20784 non-null  object\n",
      " 23  Module           20765 non-null  object\n",
      " 24  Feature          7908 non-null   object\n",
      "dtypes: int64(1), object(24)\n",
      "memory usage: 18.3+ MB\n"
     ]
    }
   ],
   "source": [
    "df.info()"
   ]
  },
  {
   "cell_type": "code",
   "execution_count": 6,
   "metadata": {},
   "outputs": [
    {
     "name": "stdout",
     "output_type": "stream",
     "text": [
      "           Watchers\n",
      "count  96106.000000\n",
      "mean       0.134622\n",
      "std        0.494391\n",
      "min        0.000000\n",
      "25%        0.000000\n",
      "50%        0.000000\n",
      "75%        0.000000\n",
      "max        9.000000\n"
     ]
    }
   ],
   "source": [
    "# Statistiques générales (uniquement pour les colonnes numériques)\n",
    "print(df.describe())"
   ]
  },
  {
   "cell_type": "code",
   "execution_count": 7,
   "metadata": {},
   "outputs": [
    {
     "name": "stdout",
     "output_type": "stream",
     "text": [
      "Subtasks           95.772376\n",
      "Due Date           92.226292\n",
      "Feature            91.771586\n",
      "Parent Issue       91.258610\n",
      "Release Note       87.973696\n",
      "Fix Versions       84.413044\n",
      "Labels             80.337336\n",
      "Module             78.393649\n",
      "Module-Feature     78.373879\n",
      "Components         70.084074\n",
      "Resolution Date    59.752773\n",
      "Priority           46.830583\n",
      "Comments           45.619420\n",
      "Issue Links        44.679833\n",
      "Description        33.894866\n",
      "Assignee           27.343766\n",
      "Summary             0.017689\n",
      "Watchers            0.000000\n",
      "Key                 0.000000\n",
      "Type                0.000000\n",
      "Updated             0.000000\n",
      "Created             0.000000\n",
      "Resolution          0.000000\n",
      "Status              0.000000\n",
      "Reporter            0.000000\n",
      "dtype: float64\n"
     ]
    }
   ],
   "source": [
    "# Pourcentage de valeurs manquantes par colonne\n",
    "missing_values = df.isnull().sum() / len(df) * 100\n",
    "print(missing_values.sort_values(ascending=False))"
   ]
  },
  {
   "cell_type": "markdown",
   "metadata": {},
   "source": [
    "3️⃣ Exploration des catégories"
   ]
  },
  {
   "cell_type": "code",
   "execution_count": 8,
   "metadata": {},
   "outputs": [
    {
     "name": "stdout",
     "output_type": "stream",
     "text": [
      "Type\n",
      "Retrofit               39318\n",
      "Bug                    15530\n",
      "Sub-task                8025\n",
      "Defect                  8008\n",
      "Story                   5007\n",
      "Improvement             4817\n",
      "Test                    3640\n",
      "Request                 1820\n",
      "Test Execution          1713\n",
      "Problem                 1671\n",
      "Version NeoXam          1371\n",
      "Task                    1347\n",
      "Incident                1340\n",
      "Epic                    1140\n",
      "Test Plan                433\n",
      "Sub Test Execution       376\n",
      "Pre-Condition            259\n",
      "RFC Feature              135\n",
      "Test Set                 105\n",
      "Project                   33\n",
      "Development Request       12\n",
      "RFC Improvement            6\n",
      "Name: count, dtype: int64\n"
     ]
    }
   ],
   "source": [
    "# Nombre de tickets par type\n",
    "print(df['Type'].value_counts())\n"
   ]
  },
  {
   "cell_type": "code",
   "execution_count": 9,
   "metadata": {},
   "outputs": [
    {
     "name": "stdout",
     "output_type": "stream",
     "text": [
      "Status\n",
      "Closed                          38577\n",
      "Validated                       23486\n",
      "Canceled                        16951\n",
      "New                              4131\n",
      "Open                             3750\n",
      "Done                             2077\n",
      "Ready to run                     1566\n",
      "Released                         1252\n",
      "To Do                             846\n",
      "Resolved                          801\n",
      "Ready For Review                  420\n",
      "To be tested                      391\n",
      "Test failed                       329\n",
      "In Progress                       274\n",
      "Assigned                          273\n",
      "Dev In Progress                   234\n",
      "Acknowledged                      188\n",
      "To be fixed                       179\n",
      "PR in progress                    116\n",
      "Rejected                           88\n",
      "Deprecated                         64\n",
      "On hold                            36\n",
      "Customer pending                   34\n",
      "Release requested                  23\n",
      "Blocked                            11\n",
      "Waiting for approval                7\n",
      "Waiting for a test procedure        2\n",
      "Name: count, dtype: int64\n"
     ]
    }
   ],
   "source": [
    "# Nombre de tickets par statut\n",
    "print(df['Status'].value_counts())"
   ]
  },
  {
   "cell_type": "code",
   "execution_count": 10,
   "metadata": {},
   "outputs": [
    {
     "name": "stdout",
     "output_type": "stream",
     "text": [
      "Resolution\n",
      "Unresolved          57469\n",
      "Fixed               21418\n",
      "Done                 3361\n",
      "Closed               2934\n",
      "Canceled             2224\n",
      "Not A Bug            2029\n",
      "Won't Do             1759\n",
      "Duplicate            1616\n",
      "Cannot Reproduce     1293\n",
      "Won't Fix             831\n",
      "Incomplete            676\n",
      "Resolved              278\n",
      "Rejected              205\n",
      "Reviewed               13\n",
      "Name: count, dtype: int64\n"
     ]
    }
   ],
   "source": [
    "# Nombre de tickets par résolution\n",
    "print(df['Resolution'].value_counts())"
   ]
  },
  {
   "cell_type": "code",
   "execution_count": 11,
   "metadata": {},
   "outputs": [],
   "source": [
    "# Filtrer les lignes où 'Status' est dans [\"Closed\", \"Validated\", \"Done\", \"Resolved\"]\n",
    "df_filtre_status = df[df[\"Status\"].isin([\"Closed\", \"Validated\", \"Done\", \"Resolved\"])]"
   ]
  },
  {
   "cell_type": "code",
   "execution_count": 12,
   "metadata": {},
   "outputs": [
    {
     "name": "stdout",
     "output_type": "stream",
     "text": [
      "Nombre de lignes après filtrage : 64941\n"
     ]
    }
   ],
   "source": [
    "nombre_lignes = len(df_filtre_status)\n",
    "# ou\n",
    "nombre_lignes = df_filtre_status.shape[0]\n",
    "\n",
    "print(f\"Nombre de lignes après filtrage : {nombre_lignes}\")\n"
   ]
  },
  {
   "cell_type": "code",
   "execution_count": 13,
   "metadata": {},
   "outputs": [],
   "source": [
    "# Filtrer les lignes où 'type' n'est pas dans la liste\n",
    "df_filtre_status_type = df_filtre_status[~df_filtre_status[\"Type\"].isin([\"Retrofit\", \"Defect\", \"Task\", \"Sub-task\", \"Test Execution\", \"Test\", \"Test Set\", \"Test Plan\", \"Sub Test Execution\"])]"
   ]
  },
  {
   "cell_type": "code",
   "execution_count": 14,
   "metadata": {},
   "outputs": [
    {
     "name": "stdout",
     "output_type": "stream",
     "text": [
      "Nombre de lignes après filtrage : 27498\n"
     ]
    }
   ],
   "source": [
    "# Afficher le nombre de lignes après ce deuxième filtrage\n",
    "print(f\"Nombre de lignes après filtrage : {len(df_filtre_status_type)}\")"
   ]
  },
  {
   "cell_type": "code",
   "execution_count": 15,
   "metadata": {},
   "outputs": [],
   "source": [
    "df_filtre_status_type_description = df_filtre_status_type[df_filtre_status_type[\"Description\"].notna() & (df_filtre_status_type[\"Description\"].str.strip() != \"\")]\n"
   ]
  },
  {
   "cell_type": "code",
   "execution_count": 16,
   "metadata": {},
   "outputs": [
    {
     "name": "stdout",
     "output_type": "stream",
     "text": [
      "Nombre de lignes après filtrage des descriptions vides : 24473\n"
     ]
    }
   ],
   "source": [
    "# Afficher le nombre de lignes après le filtrage\n",
    "print(f\"Nombre de lignes après filtrage des descriptions vides : {len(df_filtre_status_type_description)}\")"
   ]
  },
  {
   "cell_type": "code",
   "execution_count": 17,
   "metadata": {},
   "outputs": [],
   "source": [
    "# Filtrer les lignes où 'resolution' est dans [\"Fixed\", \"Done\", \"Closed\"]\n",
    "df_filtre_status_type_description_resolution = df_filtre_status_type_description[\n",
    "    df_filtre_status_type_description[\"Resolution\"].isin([\"Fixed\", \"Done\", \"Closed\"])\n",
    "]\n"
   ]
  },
  {
   "cell_type": "code",
   "execution_count": 18,
   "metadata": {},
   "outputs": [
    {
     "name": "stdout",
     "output_type": "stream",
     "text": [
      "Nombre de lignes après filtrage des résolutions 'Unresolved' : 15981\n"
     ]
    }
   ],
   "source": [
    "# Afficher le nombre de lignes après ce filtrage\n",
    "print(f\"Nombre de lignes après filtrage des résolutions 'Unresolved' : {len(df_filtre_status_type_description_resolution)}\")"
   ]
  },
  {
   "cell_type": "code",
   "execution_count": 19,
   "metadata": {},
   "outputs": [
    {
     "name": "stdout",
     "output_type": "stream",
     "text": [
      "Copie du DataFrame effectuée avec succès.\n"
     ]
    }
   ],
   "source": [
    "# Faire une copie du DataFrame\n",
    "df_copy = df_filtre_status_type_description_resolution.copy()\n",
    "\n",
    "# Afficher un message pour confirmer la copie\n",
    "print(\"Copie du DataFrame effectuée avec succès.\")\n"
   ]
  },
  {
   "cell_type": "code",
   "execution_count": 20,
   "metadata": {},
   "outputs": [
    {
     "name": "stdout",
     "output_type": "stream",
     "text": [
      "Le fichier a été sauvegardé sous 'df_filtre_status_type_description_resolution_copy.csv'.\n"
     ]
    }
   ],
   "source": [
    "# Enregistrer la copie dans un fichier CSV\n",
    "df_copy.to_csv(\"df_filtre_status_type_description_resolution_copy.csv\", index=False)\n",
    "\n",
    "print(\"Le fichier a été sauvegardé sous 'df_filtre_status_type_description_resolution_copy.csv'.\")\n"
   ]
  },
  {
   "cell_type": "code",
   "execution_count": null,
   "metadata": {},
   "outputs": [],
   "source": []
  }
 ],
 "metadata": {
  "kernelspec": {
   "display_name": "base",
   "language": "python",
   "name": "python3"
  },
  "language_info": {
   "codemirror_mode": {
    "name": "ipython",
    "version": 3
   },
   "file_extension": ".py",
   "mimetype": "text/x-python",
   "name": "python",
   "nbconvert_exporter": "python",
   "pygments_lexer": "ipython3",
   "version": "3.12.7"
  }
 },
 "nbformat": 4,
 "nbformat_minor": 2
}
