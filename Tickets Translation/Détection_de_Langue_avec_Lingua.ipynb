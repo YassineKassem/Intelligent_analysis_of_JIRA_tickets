{
 "cells": [
  {
   "cell_type": "code",
   "execution_count": 1,
   "metadata": {},
   "outputs": [],
   "source": [
    "from lingua import Language, LanguageDetectorBuilder"
   ]
  },
  {
   "cell_type": "markdown",
   "metadata": {},
   "source": [
    "Détection de Langue avec Lingua"
   ]
  },
  {
   "cell_type": "code",
   "execution_count": 2,
   "metadata": {},
   "outputs": [],
   "source": [
    "# Initialisation du détecteur (optimisé pour FR/EN)\n",
    "detector = LanguageDetectorBuilder.from_languages(\n",
    "    Language.FRENCH, \n",
    "    Language.ENGLISH\n",
    ").with_preloaded_language_models().build()"
   ]
  },
  {
   "cell_type": "code",
   "execution_count": null,
   "metadata": {},
   "outputs": [],
   "source": [
    "def detect_language_lingua(text):\n",
    "    result = detector.detect_language_of(text)\n",
    "    return \"fr\" if result == Language.FRENCH else \"en\" if result == Language.ENGLISH else \"unknown\""
   ]
  },
  {
   "cell_type": "code",
   "execution_count": 4,
   "metadata": {},
   "outputs": [
    {
     "name": "stdout",
     "output_type": "stream",
     "text": [
      "en\n"
     ]
    }
   ],
   "source": [
    "print(detect_language_lingua(\"Webstart with ssl and encrypted password in network.cfg\"))"
   ]
  },
  {
   "cell_type": "code",
   "execution_count": 14,
   "metadata": {},
   "outputs": [
    {
     "name": "stdout",
     "output_type": "stream",
     "text": [
      "fr\n"
     ]
    }
   ],
   "source": [
    "print(detect_language_lingua(\"Correction Erreurs pour CMAM - Préparation de la base de données\"))"
   ]
  },
  {
   "cell_type": "markdown",
   "metadata": {},
   "source": [
    "Pipeline Complet avec Traduction"
   ]
  },
  {
   "cell_type": "code",
   "execution_count": 6,
   "metadata": {},
   "outputs": [],
   "source": [
    "from transformers import pipeline\n",
    "from concurrent.futures import ThreadPoolExecutor\n",
    "from tqdm import tqdm\n"
   ]
  },
  {
   "cell_type": "code",
   "execution_count": 7,
   "metadata": {},
   "outputs": [
    {
     "data": {
      "application/vnd.jupyter.widget-view+json": {
       "model_id": "560d69476a78429caa883f804ef28484",
       "version_major": 2,
       "version_minor": 0
      },
      "text/plain": [
       "source.spm:   0%|          | 0.00/778k [00:00<?, ?B/s]"
      ]
     },
     "metadata": {},
     "output_type": "display_data"
    },
    {
     "name": "stderr",
     "output_type": "stream",
     "text": [
      "c:\\Users\\my.kassem\\Desktop\\Intelligent_analysis_of_JIRA_tickets\\.venv\\lib\\site-packages\\huggingface_hub\\file_download.py:144: UserWarning: `huggingface_hub` cache-system uses symlinks by default to efficiently store duplicated files but your machine does not support them in C:\\Users\\my.kassem\\.cache\\huggingface\\hub\\models--Helsinki-NLP--opus-mt-en-fr. Caching files will still work but in a degraded version that might require more space on your disk. This warning can be disabled by setting the `HF_HUB_DISABLE_SYMLINKS_WARNING` environment variable. For more details, see https://huggingface.co/docs/huggingface_hub/how-to-cache#limitations.\n",
      "To support symlinks on Windows, you either need to activate Developer Mode or to run Python as an administrator. In order to activate developer mode, see this article: https://docs.microsoft.com/en-us/windows/apps/get-started/enable-your-device-for-development\n",
      "  warnings.warn(message)\n"
     ]
    },
    {
     "data": {
      "application/vnd.jupyter.widget-view+json": {
       "model_id": "6f2473f7a4ab40c582f805f05d50d92a",
       "version_major": 2,
       "version_minor": 0
      },
      "text/plain": [
       "target.spm:   0%|          | 0.00/802k [00:00<?, ?B/s]"
      ]
     },
     "metadata": {},
     "output_type": "display_data"
    },
    {
     "data": {
      "application/vnd.jupyter.widget-view+json": {
       "model_id": "e9b6cdbd0b4f4938aaa8069974d4f835",
       "version_major": 2,
       "version_minor": 0
      },
      "text/plain": [
       "vocab.json:   0%|          | 0.00/1.34M [00:00<?, ?B/s]"
      ]
     },
     "metadata": {},
     "output_type": "display_data"
    },
    {
     "name": "stderr",
     "output_type": "stream",
     "text": [
      "c:\\Users\\my.kassem\\Desktop\\Intelligent_analysis_of_JIRA_tickets\\.venv\\lib\\site-packages\\transformers\\models\\marian\\tokenization_marian.py:175: UserWarning: Recommended: pip install sacremoses.\n",
      "  warnings.warn(\"Recommended: pip install sacremoses.\")\n",
      "Device set to use cpu\n"
     ]
    }
   ],
   "source": [
    "# Chargez un modèle de traduction léger\n",
    "translator = pipeline(\n",
    "    \"translation_en_to_fr\", \n",
    "    model=\"Helsinki-NLP/opus-mt-en-fr\",\n",
    "    device=-1  # CPU\n",
    ")"
   ]
  },
  {
   "cell_type": "code",
   "execution_count": 9,
   "metadata": {},
   "outputs": [],
   "source": [
    "def process_text(text):\n",
    "    lang = detect_language_lingua(text)\n",
    "    if lang == 'en':\n",
    "        try:\n",
    "            return translator(text, max_length=100)[0]['translation_text']\n",
    "        except:\n",
    "            return text  # En cas d'erreur, conserve l'original\n",
    "    return text"
   ]
  },
  {
   "cell_type": "code",
   "execution_count": 10,
   "metadata": {},
   "outputs": [],
   "source": [
    "\n",
    "# Traitement parallèle des 16k tickets\n",
    "def translate_corpus(texts, workers=4):\n",
    "    with ThreadPoolExecutor(max_workers=workers) as executor:\n",
    "        return list(tqdm(executor.map(process_text, texts), total=len(texts)))\n"
   ]
  },
  {
   "cell_type": "code",
   "execution_count": 11,
   "metadata": {},
   "outputs": [],
   "source": [
    "import pandas as pd\n",
    "\n",
    "# Charger le fichier CSV\n",
    "df = pd.read_csv('C:/Users/my.kassem/Desktop/exploratory data analysis/df_filtre_status_type_description_resolution_copy.csv')"
   ]
  },
  {
   "cell_type": "code",
   "execution_count": 12,
   "metadata": {},
   "outputs": [],
   "source": [
    "summaries = df['Summary'].tolist()  # Convertit la colonne en liste\n",
    "\n"
   ]
  },
  {
   "cell_type": "code",
   "execution_count": 19,
   "metadata": {},
   "outputs": [
    {
     "name": "stdout",
     "output_type": "stream",
     "text": [
      "Répartition des langues dans le champ Description :\n",
      "en: 8988 occurrences\n",
      "fr: 6626 occurrences\n",
      "unknown: 367 occurrences\n",
      "\n",
      "Répartition des langues dans le champ Summary :\n",
      "fr: 4318 occurrences\n",
      "en: 9964 occurrences\n",
      "unknown: 1699 occurrences\n"
     ]
    },
    {
     "data": {
      "text/html": [
       "<div>\n",
       "<style scoped>\n",
       "    .dataframe tbody tr th:only-of-type {\n",
       "        vertical-align: middle;\n",
       "    }\n",
       "\n",
       "    .dataframe tbody tr th {\n",
       "        vertical-align: top;\n",
       "    }\n",
       "\n",
       "    .dataframe thead th {\n",
       "        text-align: right;\n",
       "    }\n",
       "</style>\n",
       "<table border=\"1\" class=\"dataframe\">\n",
       "  <thead>\n",
       "    <tr style=\"text-align: right;\">\n",
       "      <th></th>\n",
       "      <th>Description</th>\n",
       "      <th>Detected_Language_Desc</th>\n",
       "      <th>Summary</th>\n",
       "      <th>Detected_Language_Summary</th>\n",
       "    </tr>\n",
       "  </thead>\n",
       "  <tbody>\n",
       "    <tr>\n",
       "      <th>0</th>\n",
       "      <td>Bonjour à tous,\\r\\nNous avons CACEIS qui nous ...</td>\n",
       "      <td>en</td>\n",
       "      <td>CACEIS-PROD-IN-CP - Licence expirée depuis le ...</td>\n",
       "      <td>fr</td>\n",
       "    </tr>\n",
       "    <tr>\n",
       "      <th>1</th>\n",
       "      <td>Due to improvements done with  DHRD-100447, th...</td>\n",
       "      <td>en</td>\n",
       "      <td>TST - Manual override / Audit must be retested</td>\n",
       "      <td>en</td>\n",
       "    </tr>\n",
       "    <tr>\n",
       "      <th>2</th>\n",
       "      <td>||Version details||Environment infos||\\r\\n| * ...</td>\n",
       "      <td>en</td>\n",
       "      <td>Can't Start Workers</td>\n",
       "      <td>en</td>\n",
       "    </tr>\n",
       "    <tr>\n",
       "      <th>3</th>\n",
       "      <td>||Version details||Environment infos||\\r\\n| * ...</td>\n",
       "      <td>en</td>\n",
       "      <td>[AWS] S3 services failure with AWS_ROLE channel</td>\n",
       "      <td>en</td>\n",
       "    </tr>\n",
       "    <tr>\n",
       "      <th>4</th>\n",
       "      <td>||Version details||Environment infos||\\r\\n|VER...</td>\n",
       "      <td>en</td>\n",
       "      <td>[Regression] : NPE raised when using the Share...</td>\n",
       "      <td>en</td>\n",
       "    </tr>\n",
       "    <tr>\n",
       "      <th>5</th>\n",
       "      <td>When we got a version Mismatch when we try to ...</td>\n",
       "      <td>en</td>\n",
       "      <td>FIL-PROD-IN (IBOR) SaveObjectsImmediately remo...</td>\n",
       "      <td>en</td>\n",
       "    </tr>\n",
       "    <tr>\n",
       "      <th>6</th>\n",
       "      <td>basically bake push images as multiarch even t...</td>\n",
       "      <td>en</td>\n",
       "      <td>retention - fix multi-arch image deletion...</td>\n",
       "      <td>unknown</td>\n",
       "    </tr>\n",
       "    <tr>\n",
       "      <th>7</th>\n",
       "      <td>Since the url defined in the communication cha...</td>\n",
       "      <td>en</td>\n",
       "      <td>US11 - Constitution of the complete url</td>\n",
       "      <td>en</td>\n",
       "    </tr>\n",
       "    <tr>\n",
       "      <th>8</th>\n",
       "      <td>||Version details||Environment infos||\\r\\n| * ...</td>\n",
       "      <td>en</td>\n",
       "      <td>[nxdh-docker][k8s] Unable to connect to thick ...</td>\n",
       "      <td>en</td>\n",
       "    </tr>\n",
       "    <tr>\n",
       "      <th>9</th>\n",
       "      <td>Diego / Islem - Image manquante sur artifactor...</td>\n",
       "      <td>fr</td>\n",
       "      <td>retention - fix images being deleted when they...</td>\n",
       "      <td>en</td>\n",
       "    </tr>\n",
       "  </tbody>\n",
       "</table>\n",
       "</div>"
      ],
      "text/plain": [
       "                                         Description Detected_Language_Desc  \\\n",
       "0  Bonjour à tous,\\r\\nNous avons CACEIS qui nous ...                     en   \n",
       "1  Due to improvements done with  DHRD-100447, th...                     en   \n",
       "2  ||Version details||Environment infos||\\r\\n| * ...                     en   \n",
       "3  ||Version details||Environment infos||\\r\\n| * ...                     en   \n",
       "4  ||Version details||Environment infos||\\r\\n|VER...                     en   \n",
       "5  When we got a version Mismatch when we try to ...                     en   \n",
       "6  basically bake push images as multiarch even t...                     en   \n",
       "7  Since the url defined in the communication cha...                     en   \n",
       "8  ||Version details||Environment infos||\\r\\n| * ...                     en   \n",
       "9  Diego / Islem - Image manquante sur artifactor...                     fr   \n",
       "\n",
       "                                             Summary Detected_Language_Summary  \n",
       "0  CACEIS-PROD-IN-CP - Licence expirée depuis le ...                        fr  \n",
       "1     TST - Manual override / Audit must be retested                        en  \n",
       "2                                Can't Start Workers                        en  \n",
       "3    [AWS] S3 services failure with AWS_ROLE channel                        en  \n",
       "4  [Regression] : NPE raised when using the Share...                        en  \n",
       "5  FIL-PROD-IN (IBOR) SaveObjectsImmediately remo...                        en  \n",
       "6       retention - fix multi-arch image deletion...                   unknown  \n",
       "7            US11 - Constitution of the complete url                        en  \n",
       "8  [nxdh-docker][k8s] Unable to connect to thick ...                        en  \n",
       "9  retention - fix images being deleted when they...                        en  "
      ]
     },
     "execution_count": 19,
     "metadata": {},
     "output_type": "execute_result"
    }
   ],
   "source": [
    "from collections import Counter\n",
    "\n",
    "def detect_language_with_confidence(text):\n",
    "    if not isinstance(text, str) or text.strip() == \"\":\n",
    "        return \"unknown\"\n",
    "    \n",
    "    result = detector.compute_language_confidence_values(text)\n",
    "    if result:\n",
    "        best_match = max(result, key=lambda x: x.value)\n",
    "        if best_match.value > 0.7:  # Seulement si la confiance est > 70%\n",
    "            return \"fr\" if best_match.language == Language.FRENCH else \"en\" if best_match.language == Language.ENGLISH else \"unknown\"\n",
    "    return \"unknown\"\n",
    "\n",
    "# Détecter la langue pour chaque Description avec confiance\n",
    "df['Detected_Language_Desc'] = df['Description'].apply(detect_language_with_confidence)\n",
    "\n",
    "# Détecter la langue pour chaque Summary avec confiance\n",
    "df['Detected_Language_Summary'] = df['Summary'].apply(detect_language_with_confidence)\n",
    "\n",
    "# Compter l'apparition de chaque langue pour Description\n",
    "language_counts_desc = Counter(df['Detected_Language_Desc'])\n",
    "\n",
    "# Compter l'apparition de chaque langue pour Summary\n",
    "language_counts_summary = Counter(df['Detected_Language_Summary'])\n",
    "\n",
    "# Afficher les statistiques pour Description\n",
    "print(\"Répartition des langues dans le champ Description :\")\n",
    "for lang, count in language_counts_desc.items():\n",
    "    print(f\"{lang}: {count} occurrences\")\n",
    "\n",
    "# Afficher les statistiques pour Summary\n",
    "print(\"\\nRépartition des langues dans le champ Summary :\")\n",
    "for lang, count in language_counts_summary.items():\n",
    "    print(f\"{lang}: {count} occurrences\")\n",
    "\n",
    "# Aperçu des résultats\n",
    "df[['Description', 'Detected_Language_Desc', 'Summary', 'Detected_Language_Summary']].head(10)\n"
   ]
  },
  {
   "cell_type": "code",
   "execution_count": 21,
   "metadata": {},
   "outputs": [],
   "source": [
    "#1. Vérifier et Nettoyer le Texte\n",
    "import re\n",
    "\n",
    "def clean_text(text):\n",
    "    if not isinstance(text, str):\n",
    "        return \"\"\n",
    "    text = text.replace(\"\\r\", \"\").replace(\"\\n\", \" \")  # Supprime les retours à la ligne\n",
    "    text = re.sub(r'\\s+', ' ', text).strip()  # Supprime les espaces multiples\n",
    "    return text\n",
    "\n",
    "df['Description_Clean'] = df['Description'].apply(clean_text)\n",
    "df['Summary_Clean'] = df['Summary'].apply(clean_text)\n"
   ]
  },
  {
   "cell_type": "code",
   "execution_count": 22,
   "metadata": {},
   "outputs": [],
   "source": [
    "#2. Ajuster le Seuil de Confiance\n",
    "def detect_language_with_adjusted_confidence(text, threshold=0.6):  # Ajusté à 60%\n",
    "    if not isinstance(text, str) or text.strip() == \"\":\n",
    "        return \"unknown\"\n",
    "\n",
    "    result = detector.compute_language_confidence_values(text)\n",
    "    if result:\n",
    "        best_match = max(result, key=lambda x: x.value)\n",
    "        if best_match.value > threshold:\n",
    "            return \"fr\" if best_match.language == Language.FRENCH else \"en\" if best_match.language == Language.ENGLISH else \"unknown\"\n",
    "    return \"unknown\"\n"
   ]
  },
  {
   "cell_type": "code",
   "execution_count": 23,
   "metadata": {},
   "outputs": [],
   "source": [
    "def detect_language_with_mean_confidence(text):\n",
    "    if not isinstance(text, str) or text.strip() == \"\":\n",
    "        return \"unknown\"\n",
    "\n",
    "    confidence_values = detector.compute_language_confidence_values(text)\n",
    "    if not confidence_values:\n",
    "        return \"unknown\"\n",
    "\n",
    "    lang_conf = {str(l.language): l.value for l in confidence_values}\n",
    "    fr_conf = lang_conf.get(\"Language.FRENCH\", 0)\n",
    "    en_conf = lang_conf.get(\"Language.ENGLISH\", 0)\n",
    "\n",
    "    # Comparaison en utilisant la moyenne\n",
    "    if fr_conf >= en_conf and fr_conf > 0.6:\n",
    "        return \"fr\"\n",
    "    elif en_conf > fr_conf and en_conf > 0.6:\n",
    "        return \"en\"\n",
    "    return \"unknown\"\n"
   ]
  },
  {
   "cell_type": "code",
   "execution_count": 26,
   "metadata": {},
   "outputs": [
    {
     "name": "stdout",
     "output_type": "stream",
     "text": [
      "Répartition des langues dans le champ Description :\n",
      "en: 9101 occurrences\n",
      "fr: 6697 occurrences\n",
      "unknown: 183 occurrences\n",
      "\n",
      "Répartition des langues dans le champ Summary :\n",
      "fr: 4696 occurrences\n",
      "en: 10489 occurrences\n",
      "unknown: 796 occurrences\n"
     ]
    },
    {
     "data": {
      "text/html": [
       "<div>\n",
       "<style scoped>\n",
       "    .dataframe tbody tr th:only-of-type {\n",
       "        vertical-align: middle;\n",
       "    }\n",
       "\n",
       "    .dataframe tbody tr th {\n",
       "        vertical-align: top;\n",
       "    }\n",
       "\n",
       "    .dataframe thead th {\n",
       "        text-align: right;\n",
       "    }\n",
       "</style>\n",
       "<table border=\"1\" class=\"dataframe\">\n",
       "  <thead>\n",
       "    <tr style=\"text-align: right;\">\n",
       "      <th></th>\n",
       "      <th>Description</th>\n",
       "      <th>Description_Clean</th>\n",
       "      <th>Detected_Language_Desc</th>\n",
       "      <th>Summary</th>\n",
       "      <th>Summary_Clean</th>\n",
       "      <th>Detected_Language_Summary</th>\n",
       "    </tr>\n",
       "  </thead>\n",
       "  <tbody>\n",
       "    <tr>\n",
       "      <th>0</th>\n",
       "      <td>Bonjour à tous,\\r\\nNous avons CACEIS qui nous ...</td>\n",
       "      <td>Bonjour à tous, Nous avons CACEIS qui nous rem...</td>\n",
       "      <td>en</td>\n",
       "      <td>CACEIS-PROD-IN-CP - Licence expirée depuis le ...</td>\n",
       "      <td>CACEIS-PROD-IN-CP - Licence expirée depuis le ...</td>\n",
       "      <td>fr</td>\n",
       "    </tr>\n",
       "    <tr>\n",
       "      <th>1</th>\n",
       "      <td>Due to improvements done with  DHRD-100447, th...</td>\n",
       "      <td>Due to improvements done with DHRD-100447, the...</td>\n",
       "      <td>en</td>\n",
       "      <td>TST - Manual override / Audit must be retested</td>\n",
       "      <td>TST - Manual override / Audit must be retested</td>\n",
       "      <td>en</td>\n",
       "    </tr>\n",
       "    <tr>\n",
       "      <th>2</th>\n",
       "      <td>||Version details||Environment infos||\\r\\n| * ...</td>\n",
       "      <td>||Version details||Environment infos|| | * *VE...</td>\n",
       "      <td>en</td>\n",
       "      <td>Can't Start Workers</td>\n",
       "      <td>Can't Start Workers</td>\n",
       "      <td>en</td>\n",
       "    </tr>\n",
       "    <tr>\n",
       "      <th>3</th>\n",
       "      <td>||Version details||Environment infos||\\r\\n| * ...</td>\n",
       "      <td>||Version details||Environment infos|| | * *VE...</td>\n",
       "      <td>en</td>\n",
       "      <td>[AWS] S3 services failure with AWS_ROLE channel</td>\n",
       "      <td>[AWS] S3 services failure with AWS_ROLE channel</td>\n",
       "      <td>en</td>\n",
       "    </tr>\n",
       "    <tr>\n",
       "      <th>4</th>\n",
       "      <td>||Version details||Environment infos||\\r\\n|VER...</td>\n",
       "      <td>||Version details||Environment infos|| |VERSIO...</td>\n",
       "      <td>en</td>\n",
       "      <td>[Regression] : NPE raised when using the Share...</td>\n",
       "      <td>[Regression] : NPE raised when using the Share...</td>\n",
       "      <td>en</td>\n",
       "    </tr>\n",
       "    <tr>\n",
       "      <th>5</th>\n",
       "      <td>When we got a version Mismatch when we try to ...</td>\n",
       "      <td>When we got a version Mismatch when we try to ...</td>\n",
       "      <td>en</td>\n",
       "      <td>FIL-PROD-IN (IBOR) SaveObjectsImmediately remo...</td>\n",
       "      <td>FIL-PROD-IN (IBOR) SaveObjectsImmediately remo...</td>\n",
       "      <td>en</td>\n",
       "    </tr>\n",
       "    <tr>\n",
       "      <th>6</th>\n",
       "      <td>basically bake push images as multiarch even t...</td>\n",
       "      <td>basically bake push images as multiarch even t...</td>\n",
       "      <td>en</td>\n",
       "      <td>retention - fix multi-arch image deletion...</td>\n",
       "      <td>retention - fix multi-arch image deletion...</td>\n",
       "      <td>en</td>\n",
       "    </tr>\n",
       "    <tr>\n",
       "      <th>7</th>\n",
       "      <td>Since the url defined in the communication cha...</td>\n",
       "      <td>Since the url defined in the communication cha...</td>\n",
       "      <td>en</td>\n",
       "      <td>US11 - Constitution of the complete url</td>\n",
       "      <td>US11 - Constitution of the complete url</td>\n",
       "      <td>en</td>\n",
       "    </tr>\n",
       "    <tr>\n",
       "      <th>8</th>\n",
       "      <td>||Version details||Environment infos||\\r\\n| * ...</td>\n",
       "      <td>||Version details||Environment infos|| | * *VE...</td>\n",
       "      <td>en</td>\n",
       "      <td>[nxdh-docker][k8s] Unable to connect to thick ...</td>\n",
       "      <td>[nxdh-docker][k8s] Unable to connect to thick ...</td>\n",
       "      <td>en</td>\n",
       "    </tr>\n",
       "    <tr>\n",
       "      <th>9</th>\n",
       "      <td>Diego / Islem - Image manquante sur artifactor...</td>\n",
       "      <td>Diego / Islem - Image manquante sur artifactor...</td>\n",
       "      <td>fr</td>\n",
       "      <td>retention - fix images being deleted when they...</td>\n",
       "      <td>retention - fix images being deleted when they...</td>\n",
       "      <td>en</td>\n",
       "    </tr>\n",
       "  </tbody>\n",
       "</table>\n",
       "</div>"
      ],
      "text/plain": [
       "                                         Description  \\\n",
       "0  Bonjour à tous,\\r\\nNous avons CACEIS qui nous ...   \n",
       "1  Due to improvements done with  DHRD-100447, th...   \n",
       "2  ||Version details||Environment infos||\\r\\n| * ...   \n",
       "3  ||Version details||Environment infos||\\r\\n| * ...   \n",
       "4  ||Version details||Environment infos||\\r\\n|VER...   \n",
       "5  When we got a version Mismatch when we try to ...   \n",
       "6  basically bake push images as multiarch even t...   \n",
       "7  Since the url defined in the communication cha...   \n",
       "8  ||Version details||Environment infos||\\r\\n| * ...   \n",
       "9  Diego / Islem - Image manquante sur artifactor...   \n",
       "\n",
       "                                   Description_Clean Detected_Language_Desc  \\\n",
       "0  Bonjour à tous, Nous avons CACEIS qui nous rem...                     en   \n",
       "1  Due to improvements done with DHRD-100447, the...                     en   \n",
       "2  ||Version details||Environment infos|| | * *VE...                     en   \n",
       "3  ||Version details||Environment infos|| | * *VE...                     en   \n",
       "4  ||Version details||Environment infos|| |VERSIO...                     en   \n",
       "5  When we got a version Mismatch when we try to ...                     en   \n",
       "6  basically bake push images as multiarch even t...                     en   \n",
       "7  Since the url defined in the communication cha...                     en   \n",
       "8  ||Version details||Environment infos|| | * *VE...                     en   \n",
       "9  Diego / Islem - Image manquante sur artifactor...                     fr   \n",
       "\n",
       "                                             Summary  \\\n",
       "0  CACEIS-PROD-IN-CP - Licence expirée depuis le ...   \n",
       "1     TST - Manual override / Audit must be retested   \n",
       "2                                Can't Start Workers   \n",
       "3    [AWS] S3 services failure with AWS_ROLE channel   \n",
       "4  [Regression] : NPE raised when using the Share...   \n",
       "5  FIL-PROD-IN (IBOR) SaveObjectsImmediately remo...   \n",
       "6       retention - fix multi-arch image deletion...   \n",
       "7            US11 - Constitution of the complete url   \n",
       "8  [nxdh-docker][k8s] Unable to connect to thick ...   \n",
       "9  retention - fix images being deleted when they...   \n",
       "\n",
       "                                       Summary_Clean Detected_Language_Summary  \n",
       "0  CACEIS-PROD-IN-CP - Licence expirée depuis le ...                        fr  \n",
       "1     TST - Manual override / Audit must be retested                        en  \n",
       "2                                Can't Start Workers                        en  \n",
       "3    [AWS] S3 services failure with AWS_ROLE channel                        en  \n",
       "4  [Regression] : NPE raised when using the Share...                        en  \n",
       "5  FIL-PROD-IN (IBOR) SaveObjectsImmediately remo...                        en  \n",
       "6       retention - fix multi-arch image deletion...                        en  \n",
       "7            US11 - Constitution of the complete url                        en  \n",
       "8  [nxdh-docker][k8s] Unable to connect to thick ...                        en  \n",
       "9  retention - fix images being deleted when they...                        en  "
      ]
     },
     "execution_count": 26,
     "metadata": {},
     "output_type": "execute_result"
    }
   ],
   "source": [
    "# Nettoyer les textes\n",
    "df['Description_Clean'] = df['Description'].apply(clean_text)\n",
    "df['Summary_Clean'] = df['Summary'].apply(clean_text)\n",
    "\n",
    "# Détection améliorée des langues\n",
    "df['Detected_Language_Desc'] = df['Description_Clean'].apply(detect_language_with_mean_confidence)\n",
    "df['Detected_Language_Summary'] = df['Summary_Clean'].apply(detect_language_with_mean_confidence)\n",
    "\n",
    "# Statistiques finales\n",
    "from collections import Counter\n",
    "language_counts_desc = Counter(df['Detected_Language_Desc'])\n",
    "language_counts_summary = Counter(df['Detected_Language_Summary'])\n",
    "\n",
    "# Affichage des statistiques\n",
    "print(\"Répartition des langues dans le champ Description :\")\n",
    "for lang, count in language_counts_desc.items():\n",
    "    print(f\"{lang}: {count} occurrences\")\n",
    "\n",
    "print(\"\\nRépartition des langues dans le champ Summary :\")\n",
    "for lang, count in language_counts_summary.items():\n",
    "    print(f\"{lang}: {count} occurrences\")\n",
    "\n",
    "# Aperçu des résultats avec texte nettoyé\n",
    "df[['Description', 'Description_Clean', 'Detected_Language_Desc', \n",
    "    'Summary', 'Summary_Clean', 'Detected_Language_Summary']].head(10)\n"
   ]
  },
  {
   "cell_type": "code",
   "execution_count": 30,
   "metadata": {},
   "outputs": [],
   "source": [
    "# Fonction de traduction (en français -> anglais)\n",
    "def translate_text(text):\n",
    "    if text:\n",
    "        try:\n",
    "            return translator(text, max_length=100)[0]['translation_text']\n",
    "        except Exception as e:\n",
    "            print(f\"Erreur de traduction: {e}\")\n",
    "            return text\n",
    "    return text"
   ]
  },
  {
   "cell_type": "code",
   "execution_count": 31,
   "metadata": {},
   "outputs": [],
   "source": [
    "# Appliquer la détection de la langue sur la colonne Summary et traduire uniquement si la langue est le français\n",
    "def translate_summary(df):\n",
    "    # Détecter la langue pour chaque ligne de Summary\n",
    "    df['Detected_Language_Summary'] = df['Summary_Clean'].apply(detect_language_with_mean_confidence)\n",
    "    \n",
    "    # Traduire uniquement si la langue détectée est le français\n",
    "    df['Translated_Summary'] = df.apply(\n",
    "        lambda row: translate_text(row['Summary_Clean']) if row['Detected_Language_Summary'] == 'fr' else row['Summary_Clean'], axis=1\n",
    "    )\n",
    "    \n",
    "    return df[['Summary', 'Detected_Language_Summary', 'Translated_Summary']]"
   ]
  },
  {
   "cell_type": "code",
   "execution_count": 33,
   "metadata": {},
   "outputs": [
    {
     "name": "stdout",
     "output_type": "stream",
     "text": [
      "                                               Summary  \\\n",
      "0    CACEIS-PROD-IN-CP - Licence expirée depuis le ...   \n",
      "15   Problème d'accès au client lourd DH à partir d...   \n",
      "19                         [TBF] Import csv simulation   \n",
      "46                                    Json file Import   \n",
      "47                              [TBF] Json file Export   \n",
      "53   DEKABANK-SIT-RQ-DH- Impossible de lancer visag...   \n",
      "61   SGSS-SIT-PB-  [Migration V6] Problème de perf ...   \n",
      "109  AMUNDI-PROD-PB KYC - Problème de rafraichissem...   \n",
      "112  LBP-PROD-RQ- Demande d'archives sans  le binai...   \n",
      "115        Besoin de la v. 6.5.1.1 dockerisée resigné    \n",
      "119  CNP-SIT-PB- problème connexion ldap suite Migr...   \n",
      "139  Régression FeedProcs doublons dans NXDH6.5 . A...   \n",
      "157  Problèmes avec le packageInstallerService dans...   \n",
      "177                   [BPSS/Manaos]Problème de licence   \n",
      "181  LODH-SIT-PB- Gestion de la déconnexion de la b...   \n",
      "185                        Client lourd ne s'ouvre pas   \n",
      "204  Problème d'affichage lors de la création d'un ...   \n",
      "214  IDS - Enrichir la table ids-inventory avec les...   \n",
      "231  Les traces sur le log client DH s'arrête après...   \n",
      "235  Régression intégration d'un Excel via une feed...   \n",
      "240  Gestion des secrets multi-tenant pour DH sur A...   \n",
      "252  IDS - Homogénéiser en ajoutant le champ \"Share...   \n",
      "269  LODH-SIT-PB- Erreurs lors de publication Kafka...   \n",
      "271  AMUNDI-PROD: Le libellé des dormants n'est plu...   \n",
      "277                     Debugger très lent (IDRE-4424)   \n",
      "279  modularisation du service Sharepoint dans Datahub   \n",
      "299  LODH-PROD-PB- problème de fuite mémoire object...   \n",
      "306  Erreur d'enregistrement après l'ajout d'une st...   \n",
      "328  Création et Exécution de Cas de Test pour les ...   \n",
      "329  Problématique de lancement Datahub en dbcheck ...   \n",
      "\n",
      "    Detected_Language_Summary  \n",
      "0                          fr  \n",
      "15                         fr  \n",
      "19                         fr  \n",
      "46                         fr  \n",
      "47                         fr  \n",
      "53                         fr  \n",
      "61                         fr  \n",
      "109                        fr  \n",
      "112                        fr  \n",
      "115                        fr  \n",
      "119                        fr  \n",
      "139                        fr  \n",
      "157                        fr  \n",
      "177                        fr  \n",
      "181                        fr  \n",
      "185                        fr  \n",
      "204                        fr  \n",
      "214                        fr  \n",
      "231                        fr  \n",
      "235                        fr  \n",
      "240                        fr  \n",
      "252                        fr  \n",
      "269                        fr  \n",
      "271                        fr  \n",
      "277                        fr  \n",
      "279                        fr  \n",
      "299                        fr  \n",
      "306                        fr  \n",
      "328                        fr  \n",
      "329                        fr  \n"
     ]
    }
   ],
   "source": [
    "# Filtrer les lignes où la langue détectée dans Summary est 'fr' (français)\n",
    "french_summary_df = df[df['Detected_Language_Summary'] == 'fr']\n",
    "\n",
    "# Afficher les 30 premières lignes du DataFrame filtré\n",
    "print(french_summary_df[['Summary', 'Detected_Language_Summary']].head(30))\n"
   ]
  },
  {
   "cell_type": "code",
   "execution_count": 39,
   "metadata": {},
   "outputs": [
    {
     "name": "stderr",
     "output_type": "stream",
     "text": [
      "100%|██████████| 4696/4696 [00:00<00:00, 245224.75it/s]"
     ]
    },
    {
     "name": "stdout",
     "output_type": "stream",
     "text": [
      "                                               Summary  \\\n",
      "0    CACEIS-PROD-IN-CP - Licence expirée depuis le ...   \n",
      "15   Problème d'accès au client lourd DH à partir d...   \n",
      "19                         [TBF] Import csv simulation   \n",
      "46                                    Json file Import   \n",
      "47                              [TBF] Json file Export   \n",
      "53   DEKABANK-SIT-RQ-DH- Impossible de lancer visag...   \n",
      "61   SGSS-SIT-PB-  [Migration V6] Problème de perf ...   \n",
      "109  AMUNDI-PROD-PB KYC - Problème de rafraichissem...   \n",
      "112  LBP-PROD-RQ- Demande d'archives sans  le binai...   \n",
      "115        Besoin de la v. 6.5.1.1 dockerisée resigné    \n",
      "119  CNP-SIT-PB- problème connexion ldap suite Migr...   \n",
      "139  Régression FeedProcs doublons dans NXDH6.5 . A...   \n",
      "157  Problèmes avec le packageInstallerService dans...   \n",
      "177                   [BPSS/Manaos]Problème de licence   \n",
      "181  LODH-SIT-PB- Gestion de la déconnexion de la b...   \n",
      "185                        Client lourd ne s'ouvre pas   \n",
      "204  Problème d'affichage lors de la création d'un ...   \n",
      "214  IDS - Enrichir la table ids-inventory avec les...   \n",
      "231  Les traces sur le log client DH s'arrête après...   \n",
      "235  Régression intégration d'un Excel via une feed...   \n",
      "240  Gestion des secrets multi-tenant pour DH sur A...   \n",
      "252  IDS - Homogénéiser en ajoutant le champ \"Share...   \n",
      "269  LODH-SIT-PB- Erreurs lors de publication Kafka...   \n",
      "271  AMUNDI-PROD: Le libellé des dormants n'est plu...   \n",
      "277                     Debugger très lent (IDRE-4424)   \n",
      "279  modularisation du service Sharepoint dans Datahub   \n",
      "299  LODH-PROD-PB- problème de fuite mémoire object...   \n",
      "306  Erreur d'enregistrement après l'ajout d'une st...   \n",
      "328  Création et Exécution de Cas de Test pour les ...   \n",
      "329  Problématique de lancement Datahub en dbcheck ...   \n",
      "\n",
      "                                    Translated_Summary  \n",
      "0    CACEIS-PROD-IN-CP - Licence expirée depuis le ...  \n",
      "15   Problème d'accès au client lourd DH à partir d...  \n",
      "19                         [TBF] Import csv simulation  \n",
      "46                                    Json file Import  \n",
      "47                              [TBF] Json file Export  \n",
      "53   DEKABANK-SIT-RQ-DH- Impossible de lancer visag...  \n",
      "61   SGSS-SIT-PB-  [Migration V6] Problème de perf ...  \n",
      "109  AMUNDI-PROD-PB KYC - Problème de rafraichissem...  \n",
      "112  LBP-PROD-RQ- Demande d'archives sans  le binai...  \n",
      "115        Besoin de la v. 6.5.1.1 dockerisée resigné   \n",
      "119  CNP-SIT-PB- problème connexion ldap suite Migr...  \n",
      "139  Régression FeedProcs doublons dans NXDH6.5 . A...  \n",
      "157  Problèmes avec le packageInstallerService dans...  \n",
      "177                   [BPSS/Manaos]Problème de licence  \n",
      "181  LODH-SIT-PB- Gestion de la déconnexion de la b...  \n",
      "185                        Client lourd ne s'ouvre pas  \n",
      "204  Problème d'affichage lors de la création d'un ...  \n",
      "214  IDS - Enrichir la table ids-inventory avec les...  \n",
      "231  Les traces sur le log client DH s'arrête après...  \n",
      "235  Régression intégration d'un Excel via une feed...  \n",
      "240  Gestion des secrets multi-tenant pour DH sur A...  \n",
      "252  IDS - Homogénéiser en ajoutant le champ \"Share...  \n",
      "269  LODH-SIT-PB- Erreurs lors de publication Kafka...  \n",
      "271  AMUNDI-PROD: Le libellé des dormants n'est plu...  \n",
      "277                     Debugger très lent (IDRE-4424)  \n",
      "279  modularisation du service Sharepoint dans Datahub  \n",
      "299  LODH-PROD-PB- problème de fuite mémoire object...  \n",
      "306  Erreur d'enregistrement après l'ajout d'une st...  \n",
      "328  Création et Exécution de Cas de Test pour les ...  \n",
      "329  Problématique de lancement Datahub en dbcheck ...  \n"
     ]
    },
    {
     "name": "stderr",
     "output_type": "stream",
     "text": [
      "\n",
      "C:\\Users\\my.kassem\\AppData\\Local\\Temp\\ipykernel_20432\\2943510295.py:8: SettingWithCopyWarning: \n",
      "A value is trying to be set on a copy of a slice from a DataFrame.\n",
      "Try using .loc[row_indexer,col_indexer] = value instead\n",
      "\n",
      "See the caveats in the documentation: https://pandas.pydata.org/pandas-docs/stable/user_guide/indexing.html#returning-a-view-versus-a-copy\n",
      "  french_summary_df['Translated_Summary'] = translated_texts\n"
     ]
    }
   ],
   "source": [
    "# Traduire les lignes filtrées où la langue est détectée comme français\n",
    "french_summary_texts = french_summary_df['Summary'].tolist()\n",
    "\n",
    "# Appliquer la traduction\n",
    "translated_texts = translate_corpus(french_summary_texts)\n",
    "\n",
    "# Ajouter les traductions dans une nouvelle colonne 'Translated_Summary'\n",
    "french_summary_df['Translated_Summary'] = translated_texts\n",
    "\n",
    "# Afficher les résultats\n",
    "print(french_summary_df[['Summary', 'Translated_Summary']].head(30))\n"
   ]
  },
  {
   "cell_type": "code",
   "execution_count": null,
   "metadata": {},
   "outputs": [],
   "source": []
  }
 ],
 "metadata": {
  "kernelspec": {
   "display_name": ".venv",
   "language": "python",
   "name": "python3"
  },
  "language_info": {
   "codemirror_mode": {
    "name": "ipython",
    "version": 3
   },
   "file_extension": ".py",
   "mimetype": "text/x-python",
   "name": "python",
   "nbconvert_exporter": "python",
   "pygments_lexer": "ipython3",
   "version": "3.9.10"
  }
 },
 "nbformat": 4,
 "nbformat_minor": 2
}
